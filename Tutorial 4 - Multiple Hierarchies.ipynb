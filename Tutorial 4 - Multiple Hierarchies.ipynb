{
 "cells": [
  {
   "cell_type": "markdown",
   "metadata": {},
   "source": [
    " ### Multiple Hierarchies\n",
    " #### In this note book you learn about \n",
    " #### Understanding of Multile Hierarchy in source data\n",
    " #### Creating Dimension in multiple hierarchy "
   ]
  },
  {
   "cell_type": "markdown",
   "metadata": {},
   "source": [
    "#### Load Data"
   ]
  },
  {
   "cell_type": "code",
   "execution_count": null,
   "metadata": {},
   "outputs": [],
   "source": [
    "from gssutils import *\n",
    "\n",
    "scraper = Scraper('https://www.ons.gov.uk/economy/nationalaccounts/balanceofpayments/datasets/3tradeinservicesthepinkbook2016')\n",
    "scraper"
   ]
  },
  {
   "cell_type": "code",
   "execution_count": null,
   "metadata": {},
   "outputs": [],
   "source": [
    "tabs = { tab.name: tab for tab in scraper.distribution().as_databaker() }\n",
    "tab = tabs['3.2']\n",
    "savepreviewhtml(tab)"
   ]
  },
  {
   "cell_type": "markdown",
   "metadata": {},
   "source": [
    "#### This note book describes Trade revenue from different transport services \n",
    "#### Hierarchy : observations/ Revenue/ Service/ Mode of Transport/ Flow"
   ]
  },
  {
   "cell_type": "code",
   "execution_count": null,
   "metadata": {},
   "outputs": [],
   "source": [
    "Flow = tab.one_of(['Exports (Credits)','Imports (Debits)','Balances'])\n",
    "savepreviewhtml(Flow)"
   ]
  },
  {
   "cell_type": "code",
   "execution_count": null,
   "metadata": {},
   "outputs": [],
   "source": [
    "cell = tab.filter('Transport')\n",
    "cell.assert_one()"
   ]
  },
  {
   "cell_type": "code",
   "execution_count": null,
   "metadata": {},
   "outputs": [],
   "source": [
    "Year = cell.shift(0,2).expand(RIGHT).is_not_whitespace().is_not_blank()\n",
    "savepreviewhtml(Year)"
   ]
  },
  {
   "cell_type": "code",
   "execution_count": null,
   "metadata": {},
   "outputs": [],
   "source": [
    "observations = Year.fill(DOWN).is_not_whitespace().is_not_blank()\n",
    "savepreviewhtml(observations)"
   ]
  },
  {
   "cell_type": "code",
   "execution_count": null,
   "metadata": {},
   "outputs": [],
   "source": [
    "modeoftransport = cell.fill(DOWN).one_of(['Sea transport', 'Air transport', 'Rail', 'Road'])\n",
    "savepreviewhtml(modeoftransport)"
   ]
  },
  {
   "cell_type": "code",
   "execution_count": null,
   "metadata": {},
   "outputs": [],
   "source": [
    "service = cell.fill(DOWN).one_of(['Passenger', 'Dry cargo', 'Wet cargo', 'Other transport'])\n",
    "savepreviewhtml(service)"
   ]
  },
  {
   "cell_type": "code",
   "execution_count": null,
   "metadata": {},
   "outputs": [],
   "source": [
    "revenue = cell.fill(DOWN).is_not_whitespace().is_not_blank() - service - modeoftransport\n",
    "savepreviewhtml(revenue)"
   ]
  },
  {
   "cell_type": "code",
   "execution_count": null,
   "metadata": {},
   "outputs": [],
   "source": [
    "Dimensions = [\n",
    "            HDim(Year,'Year',DIRECTLY,ABOVE),\n",
    "            HDim(modeoftransport,'Mode of transport',CLOSEST,ABOVE),\n",
    "            HDim(service,'Service',CLOSEST,ABOVE),\n",
    "            HDim(revenue, 'Revenue',CLOSEST,ABOVE ),\n",
    "            HDim(Flow, 'Flow',CLOSEST,ABOVE),    \n",
    "            HDimConst('Measure Type', 'GBP Total'),\n",
    "            HDimConst('Unit','gbp-million')\n",
    "            ]"
   ]
  },
  {
   "cell_type": "code",
   "execution_count": null,
   "metadata": {},
   "outputs": [],
   "source": [
    "c1 = ConversionSegment(observations, Dimensions, processTIMEUNIT=True)\n",
    "savepreviewhtml(c1)"
   ]
  },
  {
   "cell_type": "markdown",
   "metadata": {},
   "source": [
    "#### Errors to be corrected as according to source data"
   ]
  },
  {
   "cell_type": "code",
   "execution_count": null,
   "metadata": {},
   "outputs": [],
   "source": [
    "new_table = c1.topandas()\n",
    "new_table"
   ]
  },
  {
   "cell_type": "code",
   "execution_count": null,
   "metadata": {},
   "outputs": [],
   "source": []
  }
 ],
 "metadata": {
  "kernelspec": {
   "display_name": "Python 3",
   "language": "python",
   "name": "python3"
  },
  "language_info": {
   "codemirror_mode": {
    "name": "ipython",
    "version": 3
   },
   "file_extension": ".py",
   "mimetype": "text/x-python",
   "name": "python",
   "nbconvert_exporter": "python",
   "pygments_lexer": "ipython3",
   "version": "3.7.3"
  }
 },
 "nbformat": 4,
 "nbformat_minor": 2
}
