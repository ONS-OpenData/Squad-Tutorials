{
 "cells": [
  {
   "cell_type": "markdown",
   "metadata": {},
   "source": [
    "## Hierarchy Introduction \n",
    "\n",
    "#### This note book illustrates hierarchy in data sets, Second Tutorial is continuation of First Tutorial\n",
    "#### Please follow similar steps as according to First Tutorial data set from [Pinkbook](https://www.ons.gov.uk/economy/nationalaccounts/balanceofpayments/datasets/3tradeinservicesthepinkbook2016) released by ONS\n",
    "#### Tab 3.10 Government services\n",
    "\n",
    "### In this note book you learn about \n",
    "#### Dimensional hierarchy"
   ]
  },
  {
   "cell_type": "markdown",
   "metadata": {},
   "source": [
    "#### Tab 3.10 Goverment services were disrubuted into Exports(Credit), Imports(Debits) and Balances, this section  ot covered in First Tutorial. So this is flow of money can be called as `Flow` dimension\n",
    "#### Here in this note book `Flow` dimension is parent heirarchy to services, eg: services under export and services under import"
   ]
  },
  {
   "cell_type": "code",
   "execution_count": null,
   "metadata": {
    "scrolled": true
   },
   "outputs": [],
   "source": [
    "from gssutils import *\n",
    "\n",
    "scraper = Scraper('https://www.ons.gov.uk/economy/nationalaccounts/balanceofpayments/datasets/3tradeinservicesthepinkbook2016')\n",
    "scraper"
   ]
  },
  {
   "cell_type": "markdown",
   "metadata": {},
   "source": [
    "#### Pull Tab 3.10 data table from dataset by using below databaker scraper distrubution code, you can view tab using `savepreviewhtml()`.  \n",
    "#### As data tab implemented in databaker way further steps to generate tidy data work based on databaker package code along with other python packages for data wrangling."
   ]
  },
  {
   "cell_type": "code",
   "execution_count": null,
   "metadata": {},
   "outputs": [],
   "source": [
    "tabs = { tab.name: tab for tab in scraper.distribution().as_databaker() }\n",
    "tab = tabs['3.10']\n",
    "savepreviewhtml(tab)"
   ]
  },
  {
   "cell_type": "markdown",
   "metadata": {},
   "source": [
    "#### Data in this tab distrubuted in a human readable table with various columns and rows, observations are numerical numbers defined by various dimensions, in human readable table format dimensions could be in rows or in columns to understand observations and in this format various dimensions could be in same column like services and export or imports. \n",
    "####  Observation in Tab 3.10 data defined with following dimension Year, Services, Code,  Imports or Exports. So here a dimension is a list of specific attributes that define observation related to dimension.  \n",
    "#### First step to generate tidy data is  to map observations with dimensions, we can do that by defining various dimensions as variable.\n",
    "#### Below steps describe variables with their attributes, those are year, service, code.\n",
    "#### cell value defined as start point further to pull dimesions  "
   ]
  },
  {
   "cell_type": "code",
   "execution_count": null,
   "metadata": {},
   "outputs": [],
   "source": [
    "cell = tab.filter('Government services')\n",
    "cell.assert_one()"
   ]
  },
  {
   "cell_type": "code",
   "execution_count": null,
   "metadata": {},
   "outputs": [],
   "source": [
    "year = cell.shift(0,2).expand(RIGHT).is_not_blank().is_not_whitespace()"
   ]
  },
  {
   "cell_type": "code",
   "execution_count": null,
   "metadata": {},
   "outputs": [],
   "source": [
    "service = cell.fill(DOWN).is_not_blank().is_not_whitespace()"
   ]
  },
  {
   "cell_type": "code",
   "execution_count": null,
   "metadata": {},
   "outputs": [],
   "source": [
    "code = cell.shift(1,0).fill(DOWN).is_not_blank().is_not_whitespace()"
   ]
  },
  {
   "cell_type": "markdown",
   "metadata": {},
   "source": [
    "#### Select `Flow` dimension, `Flow` dimension is next in hierarchy to services"
   ]
  },
  {
   "cell_type": "code",
   "execution_count": null,
   "metadata": {},
   "outputs": [],
   "source": [
    "flow = cell.fill(DOWN).one_of(['Exports (Credits)', 'Imports (Debits)', 'Balances' ])\n",
    "savepreviewhtml(flow)"
   ]
  },
  {
   "cell_type": "markdown",
   "metadata": {},
   "source": [
    "#### Define observations"
   ]
  },
  {
   "cell_type": "code",
   "execution_count": null,
   "metadata": {},
   "outputs": [],
   "source": [
    "observations = year.fill(DOWN).is_not_blank().is_not_whitespace()\n",
    "savepreviewhtml(observations)"
   ]
  },
  {
   "cell_type": "markdown",
   "metadata": {},
   "source": [
    "#### Define how each observation is connected to it's dimension by `HDim()` and   some of dimensions defined as constants as they are taken from source data that will be same for all observations `HDimConst()` "
   ]
  },
  {
   "cell_type": "code",
   "execution_count": null,
   "metadata": {},
   "outputs": [],
   "source": [
    "Dimensions = [\n",
    "            HDimConst('Geography', 'K02000001'),\n",
    "            HDim(year,'Year', DIRECTLY,ABOVE),\n",
    "            HDim(code,'CDID',DIRECTLY,LEFT),\n",
    "            HDimConst('Unit','£ Million'),  \n",
    "            HDimConst('Measure Type','GBP Total'),\n",
    "            HDim(service, 'Product', DIRECTLY, LEFT),\n",
    "            HDim(flow, 'Flow', CLOSEST, ABOVE)\n",
    "]"
   ]
  },
  {
   "cell_type": "markdown",
   "metadata": {},
   "source": [
    "#### `conversionsegment` is observations with all dimension"
   ]
  },
  {
   "cell_type": "code",
   "execution_count": null,
   "metadata": {},
   "outputs": [],
   "source": [
    "c1 = ConversionSegment(observations, Dimensions, processTIMEUNIT=True)"
   ]
  },
  {
   "cell_type": "code",
   "execution_count": null,
   "metadata": {},
   "outputs": [],
   "source": [
    "savepreviewhtml(c1)"
   ]
  },
  {
   "cell_type": "markdown",
   "metadata": {},
   "source": [
    "#### Below cell convert conversion segment to panda data frame further for data manipulation"
   ]
  },
  {
   "cell_type": "code",
   "execution_count": null,
   "metadata": {},
   "outputs": [],
   "source": [
    "new_table = c1.topandas()\n",
    "new_table"
   ]
  },
  {
   "cell_type": "code",
   "execution_count": null,
   "metadata": {},
   "outputs": [],
   "source": []
  }
 ],
 "metadata": {
  "celltoolbar": "Raw Cell Format",
  "kernelspec": {
   "display_name": "Python 3",
   "language": "python",
   "name": "python3"
  },
  "language_info": {
   "codemirror_mode": {
    "name": "ipython",
    "version": 3
   },
   "file_extension": ".py",
   "mimetype": "text/x-python",
   "name": "python",
   "nbconvert_exporter": "python",
   "pygments_lexer": "ipython3",
   "version": "3.7.3"
  }
 },
 "nbformat": 4,
 "nbformat_minor": 2
}
