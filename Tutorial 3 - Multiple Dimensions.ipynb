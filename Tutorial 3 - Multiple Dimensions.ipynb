{
 "cells": [
  {
   "cell_type": "markdown",
   "metadata": {},
   "source": [
    "### Multiple dimension\n",
    "#### This tutorial is continuation of second tutorial\n",
    "#### In this tutorial you learn about \n",
    "#### Multiple dimension in hierarchy\n",
    "#### Missing dimension in hierarchy\n",
    "#### Remove unwanted labels in dimension"
   ]
  },
  {
   "cell_type": "markdown",
   "metadata": {},
   "source": [
    "#### Load data\n",
    "#### This note book describes about Total International Trade in Services analysed by continents and countries \n",
    "#### Continets and Countries were in hierrachy but specifically in Europe data an extra hierarchy introduced with various \n",
    "#### organisations in extra column but not for other continents, due to table format that create a wrong selection of hierarchy in a specific dimension\n",
    "\n",
    "#### Follow similar step in tidy data generation look for area dimension"
   ]
  },
  {
   "cell_type": "code",
   "execution_count": null,
   "metadata": {},
   "outputs": [],
   "source": [
    "from gssutils import *\n",
    "\n",
    "if is_interactive():\n",
    "    scraper = Scraper('https://www.ons.gov.uk/businessindustryandtrade/internationaltrade/datasets/internationaltradeinservicesreferencetables')\n",
    "    tabs = { tab.name: tab for tab in scraper.distribution().as_databaker() }"
   ]
  },
  {
   "cell_type": "code",
   "execution_count": null,
   "metadata": {},
   "outputs": [],
   "source": [
    "tab = tabs['Table A0']\n",
    "savepreviewhtml(tab)"
   ]
  },
  {
   "cell_type": "code",
   "execution_count": null,
   "metadata": {},
   "outputs": [],
   "source": [
    "Flow = tab.one_of(['Exports','Imports','Balance'])\n",
    "savepreviewhtml(Flow)"
   ]
  },
  {
   "cell_type": "code",
   "execution_count": null,
   "metadata": {},
   "outputs": [],
   "source": [
    "Year = Flow.shift(0,1).expand(RIGHT).is_not_whitespace().is_not_blank()\n",
    "savepreviewhtml(Year)"
   ]
  },
  {
   "cell_type": "code",
   "execution_count": null,
   "metadata": {},
   "outputs": [],
   "source": [
    "observations = Year.fill(DOWN).is_not_whitespace().is_not_blank()\n",
    "savepreviewhtml(observations)"
   ]
  },
  {
   "cell_type": "code",
   "execution_count": null,
   "metadata": {},
   "outputs": [],
   "source": [
    "cell = tab.filter('AO')\n",
    "cell.assert_one()"
   ]
  },
  {
   "cell_type": "code",
   "execution_count": null,
   "metadata": {},
   "outputs": [],
   "source": [
    "continents = cell.fill(DOWN).is_not_whitespace().is_not_blank()\n",
    "savepreviewhtml(continents)"
   ]
  },
  {
   "cell_type": "markdown",
   "metadata": {},
   "source": [
    "country = cell.shift(2,0).fill(DOWN).is_not_whitespace().is_not_blank()\n",
    "savepreviewhtml(country)"
   ]
  },
  {
   "cell_type": "code",
   "execution_count": null,
   "metadata": {},
   "outputs": [],
   "source": [
    "area = cell.shift(1,0).fill(DOWN).is_not_whitespace().is_not_blank()\n",
    "savepreviewhtml(area)"
   ]
  },
  {
   "cell_type": "code",
   "execution_count": null,
   "metadata": {},
   "outputs": [],
   "source": [
    "Dimensions = [\n",
    "            HDim(Year,'Year',DIRECTLY,ABOVE),\n",
    "            HDim(continents,'Continent',CLOSEST,ABOVE),\n",
    "            HDim(country,'Country',CLOSEST,ABOVE),\n",
    "            HDim(area, 'Area', CLOSEST, ABOVE),\n",
    "            HDim(Flow, 'Flow',CLOSEST,LEFT),\n",
    "            HDimConst('Measure Type', 'GBP Total'),\n",
    "            HDimConst('Unit','gbp-million')\n",
    "            ]"
   ]
  },
  {
   "cell_type": "markdown",
   "metadata": {},
   "source": [
    "#### From here important to understand how dimensions were selected for specific observations were all dimensions are correct?\n",
    "#### Because of Area dimension some observations below `Total Europe` were shown error"
   ]
  },
  {
   "cell_type": "code",
   "execution_count": null,
   "metadata": {},
   "outputs": [],
   "source": [
    "c1 = ConversionSegment(observations, Dimensions, processTIMEUNIT=True)\n",
    "savepreviewhtml(c1)"
   ]
  },
  {
   "cell_type": "markdown",
   "metadata": {},
   "source": [
    "#### A comparative look between source Table and Tidy table can able to view errors more precisely\n",
    "#### These errors should be communicated or discuused prior to Tidy data generation"
   ]
  },
  {
   "cell_type": "code",
   "execution_count": null,
   "metadata": {},
   "outputs": [],
   "source": [
    "new_table = c1.topandas()\n",
    "new_table"
   ]
  },
  {
   "cell_type": "markdown",
   "metadata": {},
   "source": [
    "#### You learn about data manipulation in future tutorials"
   ]
  }
 ],
 "metadata": {
  "kernelspec": {
   "display_name": "Python 3",
   "language": "python",
   "name": "python3"
  },
  "language_info": {
   "codemirror_mode": {
    "name": "ipython",
    "version": 3
   },
   "file_extension": ".py",
   "mimetype": "text/x-python",
   "name": "python",
   "nbconvert_exporter": "python",
   "pygments_lexer": "ipython3",
   "version": "3.7.3"
  }
 },
 "nbformat": 4,
 "nbformat_minor": 2
}
