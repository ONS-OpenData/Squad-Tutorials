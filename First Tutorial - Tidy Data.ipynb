{
 "cells": [
  {
   "cell_type": "markdown",
   "metadata": {},
   "source": [
    "## Tidy Data Generation ## \n",
    "\n",
    "#### This note book illustrates tidy data generation from data set and that tidy data get published as a data cube. The main key point is the generation of csv table from human readable data that can be readable and processed by computer. Human readable messy tables of various heirarchies get flattened in this process. \n",
    "\n",
    "### In this notebook you learn about \n",
    "#### Finding data\n",
    "#### Load data\n",
    "#### Selecting required tabs from data set\n",
    "#### Selecting dimensions and observations\n",
    "#### Mapping observation to dimensions\n",
    "#### Converting set of observation together with dimensions\n",
    "#### Generate tidy table"
   ]
  },
  {
   "cell_type": "markdown",
   "metadata": {
    "raw_mimetype": "text/x-python"
   },
   "source": [
    "#### Here we will use data from  [Pinkbook](https://www.ons.gov.uk/economy/nationalaccounts/balanceofpayments/datasets/3tradeinservicesthepinkbook2016) released by ONS, \n",
    "#### Pink book data distributed into various tabs based on services, this book for explain tidy data generation from tab 3.10 Government services\n",
    "\n"
   ]
  },
  {
   "cell_type": "markdown",
   "metadata": {},
   "source": [
    "### Load Files\n",
    "#### Here we download data set using gssutils, using https dataset url link, gssutils and other required packages installation link available from [Git Link](https://github.com/ONS-OpenData/gss-data-docs/wiki/Installation-Guide)"
   ]
  },
  {
   "cell_type": "code",
   "execution_count": null,
   "metadata": {},
   "outputs": [],
   "source": [
    "from gssutils import *\n",
    "\n",
    "scraper = Scraper('https://www.ons.gov.uk/economy/nationalaccounts/balanceofpayments/datasets/3tradeinservicesthepinkbook2016')\n",
    "scraper"
   ]
  },
  {
   "cell_type": "markdown",
   "metadata": {},
   "source": [
    "### Selecting required tabs from data set\n",
    "\n",
    "#### Pull Tab 3.10 data table from dataset by using below databaker scraper distrubution code, you can view tab using `savepreviewhtml()`.  \n",
    "#### As data tab implemented in databaker way further steps to generate tidy data work based on databaker package code along with other python packages for data wrangling."
   ]
  },
  {
   "cell_type": "code",
   "execution_count": null,
   "metadata": {},
   "outputs": [],
   "source": [
    "tabs = { tab.name: tab for tab in scraper.distribution().as_databaker() }\n",
    "tab = tabs['3.10']\n",
    "savepreviewhtml(tab)"
   ]
  },
  {
   "cell_type": "markdown",
   "metadata": {},
   "source": [
    "### Select Dimensions\n",
    "\n",
    "#### Data in this tab distrubuted in a human readable table with various columns and rows, observations are numerical numbers defined by various dimensions, in human readable table format dimensions could be in rows or in columns \n",
    "#### In human readable format various dimensions could be in same column like services and export or imports. \n",
    "####  Observation in Tab 3.10 data defined with following dimension Year, Services, Code,  Imports or Exports. So here a dimension is a list of specific attributes that define observation related to dimension.  \n",
    "#### First step to generate tidy data is  to map observations with dimensions, we can do that by defining various dimensions as variable.\n",
    "#### Below steps describe variables with their attributes, those are year, service, code.\n",
    "#### cell value defined as start point reference in tab, further to pull down dimesions "
   ]
  },
  {
   "cell_type": "code",
   "execution_count": null,
   "metadata": {},
   "outputs": [],
   "source": [
    "cell = tab.filter('Government services')\n",
    "cell.assert_one()"
   ]
  },
  {
   "cell_type": "markdown",
   "metadata": {},
   "source": [
    "#### Select year dimension"
   ]
  },
  {
   "cell_type": "code",
   "execution_count": null,
   "metadata": {},
   "outputs": [],
   "source": [
    "year = tab.filter('year')\n",
    "savepreviewhtml(year)"
   ]
  },
  {
   "cell_type": "markdown",
   "metadata": {},
   "source": [
    "#### Select services dimension"
   ]
  },
  {
   "cell_type": "code",
   "execution_count": null,
   "metadata": {},
   "outputs": [],
   "source": [
    "service = cell.fill(DOWN).is_not_blank().is_not_whitespace()\n",
    "savepreviewhtml(service)"
   ]
  },
  {
   "cell_type": "markdown",
   "metadata": {},
   "source": [
    "#### Select code dimension"
   ]
  },
  {
   "cell_type": "code",
   "execution_count": null,
   "metadata": {},
   "outputs": [],
   "source": [
    "code = cell.shift(1,0).fill(DOWN).is_not_blank().is_not_whitespace()\n",
    "savepreviewhtml(code)"
   ]
  },
  {
   "cell_type": "markdown",
   "metadata": {},
   "source": [
    "#### Define observations"
   ]
  },
  {
   "cell_type": "code",
   "execution_count": null,
   "metadata": {},
   "outputs": [],
   "source": [
    "observations = year.fill(DOWN).is_not_blank().is_not_whitespace()\n",
    "savepreviewhtml(observations)"
   ]
  },
  {
   "cell_type": "markdown",
   "metadata": {},
   "source": [
    "#### Define how each observation is connected to it's dimension by `HDim()` and   some of dimensions defined as constants as they are taken from source data that will be same for all observations `HDimConst()` \n",
    "#### Give a `Heading` to each dimension\n",
    "#### Map dimension to observation, how observations connected with a specific dimension\n",
    "#### Dimension `Geography`, `Unit`, `Measure Type` are constants, those will be same for all observations"
   ]
  },
  {
   "cell_type": "code",
   "execution_count": null,
   "metadata": {
    "collapsed": true
   },
   "outputs": [],
   "source": [
    "Dimensions = [\n",
    "            HDimConst('Geography', 'K02000001'),\n",
    "            HDim(year,'Year', DIRECTLY,ABOVE),\n",
    "            HDim(code,'CDID',DIRECTLY,LEFT),\n",
    "            HDimConst('Unit','£ Million'),  \n",
    "            HDimConst('Measure Type','GBP Total'),\n",
    "            HDim(service, 'Product', DIRECTLY, LEFT)\n",
    "]"
   ]
  },
  {
   "cell_type": "markdown",
   "metadata": {},
   "source": [
    "#### `conversionsegment` is each observations with all dimension"
   ]
  },
  {
   "cell_type": "code",
   "execution_count": null,
   "metadata": {
    "collapsed": true
   },
   "outputs": [],
   "source": [
    "c1 = ConversionSegment(observations, Dimensions, processTIMEUNIT=True)"
   ]
  },
  {
   "cell_type": "code",
   "execution_count": null,
   "metadata": {
    "scrolled": true
   },
   "outputs": [],
   "source": [
    "savepreviewhtml(c1)"
   ]
  },
  {
   "cell_type": "markdown",
   "metadata": {},
   "source": [
    "#### Below cell convert conversion segment to panda data frame further for data manipulation"
   ]
  },
  {
   "cell_type": "code",
   "execution_count": null,
   "metadata": {},
   "outputs": [],
   "source": [
    "new_table = c1.topandas()\n",
    "new_table"
   ]
  },
  {
   "cell_type": "code",
   "execution_count": null,
   "metadata": {
    "collapsed": true
   },
   "outputs": [],
   "source": []
  }
 ],
 "metadata": {
  "celltoolbar": "Raw Cell Format",
  "kernelspec": {
   "display_name": "Python 3",
   "language": "python",
   "name": "python3"
  },
  "language_info": {
   "codemirror_mode": {
    "name": "ipython",
    "version": 3
   },
   "file_extension": ".py",
   "mimetype": "text/x-python",
   "name": "python",
   "nbconvert_exporter": "python",
   "pygments_lexer": "ipython3",
   "version": "3.6.3"
  }
 },
 "nbformat": 4,
 "nbformat_minor": 2
}
