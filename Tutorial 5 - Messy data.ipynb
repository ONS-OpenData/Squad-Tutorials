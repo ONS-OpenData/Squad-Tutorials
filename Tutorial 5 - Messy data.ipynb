{
 "cells": [
  {
   "cell_type": "markdown",
   "metadata": {},
   "source": [
    "### Messy Data\n",
    "#### In this note book you learn about\n",
    "#### Understanding of messy table(not source data Table) related to Tidy data\n",
    "#### Understanding of multiple Tables in a data set tab\n",
    "#### Multiple measures in a data set tab\n",
    "#### Artificial dimension to unify multiple tables data"
   ]
  },
  {
   "cell_type": "markdown",
   "metadata": {},
   "source": [
    "#### Load Data\n",
    "#### This spreadsheet contains Annual Business Survey Importers and exporters of goods and services in Great Britain by employment size, turnover size, ownership and age\n",
    "#### Observations of employment size, turnover size, ownership and age were differentiated into seperate tables \n",
    "#### Following steps in Tidy data explains unifying various specific tables into one Tidy data further that will ease creating one tube for one data set"
   ]
  },
  {
   "cell_type": "code",
   "execution_count": null,
   "metadata": {},
   "outputs": [],
   "source": [
    "from gssutils import *\n",
    "\n",
    "scraper = Scraper('https://www.ons.gov.uk/businessindustryandtrade/' + \\\n",
    "                  'business/businessservices/datasets/annualbusinesssurveyimportersandexporters')\n",
    "scraper"
   ]
  },
  {
   "cell_type": "code",
   "execution_count": null,
   "metadata": {},
   "outputs": [],
   "source": [
    "tabs = { tab.name: tab for tab in scraper.distribution().as_databaker() }\n",
    "tab = tabs['2016 Goods and Services']\n",
    "savepreviewhtml(tab)"
   ]
  },
  {
   "cell_type": "code",
   "execution_count": null,
   "metadata": {},
   "outputs": [],
   "source": [
    "year = tab.name[:4]\n",
    "year"
   ]
  },
  {
   "cell_type": "code",
   "execution_count": null,
   "metadata": {},
   "outputs": [],
   "source": [
    "cell = tab.filter('Detailed employment 3')\n",
    "cell.assert_one()"
   ]
  },
  {
   "cell_type": "code",
   "execution_count": null,
   "metadata": {},
   "outputs": [],
   "source": [
    "trade = cell.fill(RIGHT).is_not_blank().is_not_whitespace()\n",
    "savepreviewhtml(trade)"
   ]
  },
  {
   "cell_type": "code",
   "execution_count": null,
   "metadata": {},
   "outputs": [],
   "source": [
    "observations = trade.fill(DOWN).is_not_blank().is_not_whitespace().is_number()\n",
    "savepreviewhtml(observations)"
   ]
  },
  {
   "cell_type": "markdown",
   "metadata": {},
   "source": [
    "#### `measuretype` dimension generated further to create further dimension"
   ]
  },
  {
   "cell_type": "code",
   "execution_count": null,
   "metadata": {},
   "outputs": [],
   "source": [
    "measuretype = tab.filter(contains_string('Number of 5')).expand(RIGHT).is_not_blank().is_not_whitespace()\n",
    "savepreviewhtml(measuretype)"
   ]
  },
  {
   "cell_type": "code",
   "execution_count": null,
   "metadata": {},
   "outputs": [],
   "source": [
    "businessstatistics = observations.shift(LEFT).is_not_blank().is_not_whitespace() - observations\n",
    "savepreviewhtml(businessstatistics)"
   ]
  },
  {
   "cell_type": "code",
   "execution_count": null,
   "metadata": {},
   "outputs": [],
   "source": [
    "activity = measuretype.shift(-1,1).is_not_blank().is_not_whitespace()\n",
    "savepreviewhtml(activity)"
   ]
  },
  {
   "cell_type": "markdown",
   "metadata": {},
   "source": [
    "#### `measure` is dimension as observations has multiple measures"
   ]
  },
  {
   "cell_type": "code",
   "execution_count": null,
   "metadata": {},
   "outputs": [],
   "source": [
    "measure = cell.shift(0,-1).fill(RIGHT).is_not_blank().is_not_whitespace()\n",
    "savepreviewhtml(measure)"
   ]
  },
  {
   "cell_type": "markdown",
   "metadata": {},
   "source": [
    "#### Multiple tables unified with creation of `Business Activity` that includes Observations of employment size, turnover size, ownership and age"
   ]
  },
  {
   "cell_type": "code",
   "execution_count": null,
   "metadata": {},
   "outputs": [],
   "source": [
    "Dimensions = [\n",
    "                HDimConst('Geography', 'K02000001'),\n",
    "                HDimConst('Year', tab.name[:4]),\n",
    "                HDim(activity,'Business Activity',CLOSEST,ABOVE),\n",
    "                HDim(measure,'Measure Type', CLOSEST, RIGHT), \n",
    "                HDim(businessstatistics,'Business Statistics', CLOSEST,ABOVE),\n",
    "                HDim(trade,'Flow',DIRECTLY,ABOVE)\n",
    "\n",
    "    ] "
   ]
  },
  {
   "cell_type": "markdown",
   "metadata": {},
   "source": [
    "#### The below tidy data could be achieved in various ways, the above and below steps are guidance purpose only as final data can be generated in other ways as well"
   ]
  },
  {
   "cell_type": "code",
   "execution_count": null,
   "metadata": {},
   "outputs": [],
   "source": [
    "c1 = ConversionSegment(observations, Dimensions, processTIMEUNIT=True)\n",
    "savepreviewhtml(c1)"
   ]
  },
  {
   "cell_type": "markdown",
   "metadata": {},
   "source": [
    "#### Errors and strings need to be cleaned "
   ]
  },
  {
   "cell_type": "code",
   "execution_count": null,
   "metadata": {},
   "outputs": [],
   "source": [
    "new_table = c1.topandas()\n",
    "new_table"
   ]
  },
  {
   "cell_type": "code",
   "execution_count": null,
   "metadata": {},
   "outputs": [],
   "source": []
  }
 ],
 "metadata": {
  "kernelspec": {
   "display_name": "Python 3",
   "language": "python",
   "name": "python3"
  },
  "language_info": {
   "codemirror_mode": {
    "name": "ipython",
    "version": 3
   },
   "file_extension": ".py",
   "mimetype": "text/x-python",
   "name": "python",
   "nbconvert_exporter": "python",
   "pygments_lexer": "ipython3",
   "version": "3.7.3"
  }
 },
 "nbformat": 4,
 "nbformat_minor": 2
}
