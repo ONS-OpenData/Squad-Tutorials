{
 "cells": [
  {
   "cell_type": "markdown",
   "metadata": {},
   "source": [
    "### Tidy Data Generation"
   ]
  },
  {
   "cell_type": "markdown",
   "metadata": {},
   "source": [
    "#### Generate tidy data for `Tab London` for below data set"
   ]
  },
  {
   "cell_type": "markdown",
   "metadata": {},
   "source": [
    "#### Content in this data covers UK NUTS1 (country or English region) Value of service exports from London by functional category, 2011 to 2016"
   ]
  },
  {
   "cell_type": "code",
   "execution_count": 1,
   "metadata": {},
   "outputs": [
    {
     "name": "stderr",
     "output_type": "stream",
     "text": [
      "WARNING:Unexpected \"next release\" field: ('Unknown string format:', 'To be announced')\n"
     ]
    },
    {
     "data": {
      "text/html": [
       "<h3>Distribution</h3>\n",
       "<dl><dt>dct:title</dt><dd>&quot;Regionalised estimates of UK service exports&quot;@en</dd>\n",
       "<dt>dcat:downloadURL</dt><dd><a href=https://www.ons.gov.uk/file?uri=/businessindustryandtrade/internationaltrade/datasets/regionalisedestimatesofukserviceexports/2011to2016/nuts1serviceexports20112016.xls>&lt;https://www.ons.gov.uk/file?uri=/businessindustryandtrade/internationaltrade/datasets/regionalisedestimatesofukserviceexports/2011to2016/nuts1serviceexports20112016.xls&gt;</a></dd>\n",
       "<dt>dcat:mediaType</dt><dd>&quot;application/vnd.ms-excel&quot;</dd>\n",
       "</dl>"
      ],
      "text/plain": [
       "<gssutils.metadata.Distribution at 0x7f9530589d30>"
      ]
     },
     "metadata": {},
     "output_type": "display_data"
    }
   ],
   "source": [
    "from gssutils import *\n",
    "\n",
    "scraper = Scraper('https://www.ons.gov.uk/businessindustryandtrade/internationaltrade/datasets/regionalisedestimatesofukserviceexports')\n",
    "distribution = scraper.distribution(\n",
    "    mediaType='application/vnd.ms-excel',\n",
    "    title='Regionalised estimates of UK service exports')\n",
    "display(distribution)"
   ]
  }
 ],
 "metadata": {
  "kernelspec": {
   "display_name": "Python 3",
   "language": "python",
   "name": "python3"
  },
  "language_info": {
   "codemirror_mode": {
    "name": "ipython",
    "version": 3
   },
   "file_extension": ".py",
   "mimetype": "text/x-python",
   "name": "python",
   "nbconvert_exporter": "python",
   "pygments_lexer": "ipython3",
   "version": "3.6.3"
  }
 },
 "nbformat": 4,
 "nbformat_minor": 2
}
